{
  "nbformat": 4,
  "nbformat_minor": 0,
  "metadata": {
    "colab": {
      "name": "Untitled1.ipynb",
      "version": "0.3.2",
      "provenance": [],
      "collapsed_sections": [],
      "include_colab_link": true
    },
    "kernelspec": {
      "name": "python3",
      "display_name": "Python 3"
    }
  },
  "cells": [
    {
      "cell_type": "markdown",
      "metadata": {
        "id": "view-in-github",
        "colab_type": "text"
      },
      "source": [
        "<a href=\"https://colab.research.google.com/github/Ankuraxz/google-collab/blob/master/NN_basic_1.ipynb\" target=\"_parent\"><img src=\"https://colab.research.google.com/assets/colab-badge.svg\" alt=\"Open In Colab\"/></a>"
      ]
    },
    {
      "cell_type": "code",
      "metadata": {
        "id": "bRwY5Dyt0ELH",
        "colab_type": "code",
        "colab": {}
      },
      "source": [
        "from keras.datasets import boston_housing\n",
        "#use keras for NN"
      ],
      "execution_count": 0,
      "outputs": []
    },
    {
      "cell_type": "code",
      "metadata": {
        "id": "yqNNncZH0Q-I",
        "colab_type": "code",
        "colab": {
          "base_uri": "https://localhost:8080/",
          "height": 54
        },
        "outputId": "a7bfc4ca-6e2a-4bca-f64b-0c7497b00181"
      },
      "source": [
        "Train,Test = boston_housing.load_data()"
      ],
      "execution_count": 4,
      "outputs": [
        {
          "output_type": "stream",
          "text": [
            "Downloading data from https://s3.amazonaws.com/keras-datasets/boston_housing.npz\n",
            "57344/57026 [==============================] - 0s 0us/step\n"
          ],
          "name": "stdout"
        }
      ]
    },
    {
      "cell_type": "code",
      "metadata": {
        "id": "Xv1P6-HM0ZXz",
        "colab_type": "code",
        "colab": {
          "base_uri": "https://localhost:8080/",
          "height": 54
        },
        "outputId": "ff12e2b7-6575-477e-f0cc-46b4f8a18b0b"
      },
      "source": [
        "XT,YT = Train\n",
        "print(XT.shape,YT.shape)\n",
        "Xt,Yt = Test\n",
        "print(Xt.shape,Yt.shape)"
      ],
      "execution_count": 5,
      "outputs": [
        {
          "output_type": "stream",
          "text": [
            "(404, 13) (404,)\n",
            "(102, 13) (102,)\n"
          ],
          "name": "stdout"
        }
      ]
    },
    {
      "cell_type": "code",
      "metadata": {
        "id": "EUckTuUW0pYD",
        "colab_type": "code",
        "colab": {}
      },
      "source": [
        "mean = XT.mean(axis = 0)\n",
        "std = XT.std(axis = 0)\n",
        "XT = (XT-mean)/std\n",
        "Xt = (Xt-mean)/std"
      ],
      "execution_count": 0,
      "outputs": []
    },
    {
      "cell_type": "code",
      "metadata": {
        "id": "P2bmmlhr01Vt",
        "colab_type": "code",
        "colab": {}
      },
      "source": [
        "#building a neural network\n",
        "from keras.models import Sequential\n",
        "from keras.layers import Dense\n",
        "\n",
        "from keras import backend as K\n",
        "def r2_score(y_true,y_pred):\n",
        "  \n",
        "  num = K.sum((y_true-y_pred))\n",
        "  denom=K.sum(K.square(y_true-K.mean(y_true)))\n",
        "  return(1-num/denom)\n",
        "  \n",
        "def Getmodel():\n",
        "  model = Sequential() #activation fxn RELU\n",
        "  model.add(Dense(64,activation='relu',input_shape=(13,))) #1st hidden layer\n",
        "  model.add(Dense(32,activation='relu')) #2nd hidden layer\n",
        "  model.add(Dense(1))\n",
        "  \n",
        "  model.compile(optimizer='adam',loss='mse',metrics=[r2_score])\n",
        "  return model\n",
        "  \n"
      ],
      "execution_count": 0,
      "outputs": []
    },
    {
      "cell_type": "code",
      "metadata": {
        "id": "nC4KUSBj8WN9",
        "colab_type": "code",
        "colab": {}
      },
      "source": [
        "model = Getmodel()"
      ],
      "execution_count": 0,
      "outputs": []
    },
    {
      "cell_type": "code",
      "metadata": {
        "id": "tRIKkqOY8uAu",
        "colab_type": "code",
        "colab": {
          "base_uri": "https://localhost:8080/",
          "height": 258
        },
        "outputId": "f47210fa-ed84-4fa3-db4b-eb6e1e1a690a"
      },
      "source": [
        "model.summary()\n",
        "#hist = model.fit(XT,YT,epochs = 100, validation_data=(XT,YT,verbose=1))"
      ],
      "execution_count": 23,
      "outputs": [
        {
          "output_type": "stream",
          "text": [
            "_________________________________________________________________\n",
            "Layer (type)                 Output Shape              Param #   \n",
            "=================================================================\n",
            "dense_10 (Dense)             (None, 64)                896       \n",
            "_________________________________________________________________\n",
            "dense_11 (Dense)             (None, 32)                2080      \n",
            "_________________________________________________________________\n",
            "dense_12 (Dense)             (None, 1)                 33        \n",
            "=================================================================\n",
            "Total params: 3,009\n",
            "Trainable params: 3,009\n",
            "Non-trainable params: 0\n",
            "_________________________________________________________________\n"
          ],
          "name": "stdout"
        }
      ]
    },
    {
      "cell_type": "code",
      "metadata": {
        "id": "3raXplZ49i59",
        "colab_type": "code",
        "colab": {
          "base_uri": "https://localhost:8080/",
          "height": 1000
        },
        "outputId": "c0c264db-10c4-4f7d-de5f-c7578cabc11d"
      },
      "source": [
        "hist = model.fit(XT,YT,epochs = 100, validation_data=(XT,YT),verbose=1)"
      ],
      "execution_count": 25,
      "outputs": [
        {
          "output_type": "stream",
          "text": [
            "W0708 09:42:34.875855 140551440910208 deprecation_wrapper.py:119] From /usr/local/lib/python3.6/dist-packages/keras/backend/tensorflow_backend.py:986: The name tf.assign_add is deprecated. Please use tf.compat.v1.assign_add instead.\n",
            "\n",
            "W0708 09:42:34.966138 140551440910208 deprecation_wrapper.py:119] From /usr/local/lib/python3.6/dist-packages/keras/backend/tensorflow_backend.py:973: The name tf.assign is deprecated. Please use tf.compat.v1.assign instead.\n",
            "\n"
          ],
          "name": "stderr"
        },
        {
          "output_type": "stream",
          "text": [
            "Train on 404 samples, validate on 404 samples\n",
            "Epoch 1/100\n",
            "404/404 [==============================] - 1s 2ms/step - loss: 591.0850 - r2_score: 0.7147 - val_loss: 569.5854 - val_r2_score: 0.6707\n",
            "Epoch 2/100\n",
            "404/404 [==============================] - 0s 81us/step - loss: 552.4200 - r2_score: 0.7086 - val_loss: 530.5658 - val_r2_score: 0.6841\n",
            "Epoch 3/100\n",
            "404/404 [==============================] - 0s 68us/step - loss: 510.5284 - r2_score: 0.7342 - val_loss: 483.0091 - val_r2_score: 0.7009\n",
            "Epoch 4/100\n",
            "404/404 [==============================] - 0s 60us/step - loss: 457.0742 - r2_score: 0.7499 - val_loss: 423.4062 - val_r2_score: 0.7235\n",
            "Epoch 5/100\n",
            "404/404 [==============================] - 0s 68us/step - loss: 392.1999 - r2_score: 0.7719 - val_loss: 349.0894 - val_r2_score: 0.7541\n",
            "Epoch 6/100\n",
            "404/404 [==============================] - 0s 62us/step - loss: 313.3528 - r2_score: 0.7892 - val_loss: 267.2290 - val_r2_score: 0.7923\n",
            "Epoch 7/100\n",
            "404/404 [==============================] - 0s 71us/step - loss: 229.3134 - r2_score: 0.8326 - val_loss: 184.2420 - val_r2_score: 0.8400\n",
            "Epoch 8/100\n",
            "404/404 [==============================] - 0s 66us/step - loss: 153.0387 - r2_score: 0.8825 - val_loss: 118.2125 - val_r2_score: 0.8923\n",
            "Epoch 9/100\n",
            "404/404 [==============================] - 0s 64us/step - loss: 100.0425 - r2_score: 0.9195 - val_loss: 81.5172 - val_r2_score: 0.9375\n",
            "Epoch 10/100\n",
            "404/404 [==============================] - 0s 76us/step - loss: 72.2327 - r2_score: 0.9555 - val_loss: 63.7695 - val_r2_score: 0.9677\n",
            "Epoch 11/100\n",
            "404/404 [==============================] - 0s 66us/step - loss: 58.4634 - r2_score: 0.9709 - val_loss: 51.6549 - val_r2_score: 0.9814\n",
            "Epoch 12/100\n",
            "404/404 [==============================] - 0s 74us/step - loss: 47.6288 - r2_score: 0.9856 - val_loss: 42.4247 - val_r2_score: 0.9866\n",
            "Epoch 13/100\n",
            "404/404 [==============================] - 0s 64us/step - loss: 39.3945 - r2_score: 0.9884 - val_loss: 36.0773 - val_r2_score: 0.9889\n",
            "Epoch 14/100\n",
            "404/404 [==============================] - 0s 63us/step - loss: 34.2034 - r2_score: 0.9894 - val_loss: 31.5221 - val_r2_score: 0.9927\n",
            "Epoch 15/100\n",
            "404/404 [==============================] - 0s 66us/step - loss: 30.2548 - r2_score: 0.9909 - val_loss: 28.5690 - val_r2_score: 0.9938\n",
            "Epoch 16/100\n",
            "404/404 [==============================] - 0s 69us/step - loss: 27.6924 - r2_score: 0.9925 - val_loss: 26.4084 - val_r2_score: 0.9965\n",
            "Epoch 17/100\n",
            "404/404 [==============================] - 0s 65us/step - loss: 25.7214 - r2_score: 0.9944 - val_loss: 24.8566 - val_r2_score: 0.9980\n",
            "Epoch 18/100\n",
            "404/404 [==============================] - 0s 74us/step - loss: 24.3061 - r2_score: 0.9979 - val_loss: 23.5747 - val_r2_score: 0.9988\n",
            "Epoch 19/100\n",
            "404/404 [==============================] - 0s 68us/step - loss: 23.1782 - r2_score: 0.9975 - val_loss: 22.4940 - val_r2_score: 1.0000\n",
            "Epoch 20/100\n",
            "404/404 [==============================] - 0s 68us/step - loss: 22.1903 - r2_score: 0.9970 - val_loss: 21.5521 - val_r2_score: 0.9986\n",
            "Epoch 21/100\n",
            "404/404 [==============================] - 0s 62us/step - loss: 21.2477 - r2_score: 0.9994 - val_loss: 20.7286 - val_r2_score: 1.0006\n",
            "Epoch 22/100\n",
            "404/404 [==============================] - 0s 68us/step - loss: 20.5412 - r2_score: 1.0009 - val_loss: 19.9366 - val_r2_score: 1.0005\n",
            "Epoch 23/100\n",
            "404/404 [==============================] - 0s 71us/step - loss: 19.7112 - r2_score: 0.9992 - val_loss: 19.2317 - val_r2_score: 1.0007\n",
            "Epoch 24/100\n",
            "404/404 [==============================] - 0s 62us/step - loss: 19.0500 - r2_score: 0.9980 - val_loss: 18.5450 - val_r2_score: 1.0001\n",
            "Epoch 25/100\n",
            "404/404 [==============================] - 0s 88us/step - loss: 18.3495 - r2_score: 0.9990 - val_loss: 17.9638 - val_r2_score: 0.9998\n",
            "Epoch 26/100\n",
            "404/404 [==============================] - 0s 73us/step - loss: 17.7705 - r2_score: 1.0007 - val_loss: 17.4351 - val_r2_score: 0.9995\n",
            "Epoch 27/100\n",
            "404/404 [==============================] - 0s 64us/step - loss: 17.2816 - r2_score: 0.9988 - val_loss: 16.8333 - val_r2_score: 1.0010\n",
            "Epoch 28/100\n",
            "404/404 [==============================] - 0s 70us/step - loss: 16.6445 - r2_score: 0.9993 - val_loss: 16.3193 - val_r2_score: 1.0011\n",
            "Epoch 29/100\n",
            "404/404 [==============================] - 0s 84us/step - loss: 16.1754 - r2_score: 1.0007 - val_loss: 15.8573 - val_r2_score: 1.0010\n",
            "Epoch 30/100\n",
            "404/404 [==============================] - 0s 72us/step - loss: 15.7907 - r2_score: 0.9977 - val_loss: 15.4142 - val_r2_score: 0.9998\n",
            "Epoch 31/100\n",
            "404/404 [==============================] - 0s 63us/step - loss: 15.3303 - r2_score: 0.9985 - val_loss: 15.0083 - val_r2_score: 1.0014\n",
            "Epoch 32/100\n",
            "404/404 [==============================] - 0s 78us/step - loss: 14.9136 - r2_score: 0.9994 - val_loss: 14.6182 - val_r2_score: 1.0021\n",
            "Epoch 33/100\n",
            "404/404 [==============================] - 0s 66us/step - loss: 14.5697 - r2_score: 1.0012 - val_loss: 14.2589 - val_r2_score: 1.0003\n",
            "Epoch 34/100\n",
            "404/404 [==============================] - 0s 64us/step - loss: 14.2138 - r2_score: 0.9987 - val_loss: 13.9200 - val_r2_score: 1.0010\n",
            "Epoch 35/100\n",
            "404/404 [==============================] - 0s 68us/step - loss: 13.9063 - r2_score: 1.0023 - val_loss: 13.5910 - val_r2_score: 1.0022\n",
            "Epoch 36/100\n",
            "404/404 [==============================] - 0s 68us/step - loss: 13.5339 - r2_score: 0.9999 - val_loss: 13.2822 - val_r2_score: 1.0006\n",
            "Epoch 37/100\n",
            "404/404 [==============================] - 0s 64us/step - loss: 13.2647 - r2_score: 1.0002 - val_loss: 13.0117 - val_r2_score: 1.0007\n",
            "Epoch 38/100\n",
            "404/404 [==============================] - 0s 72us/step - loss: 12.9201 - r2_score: 0.9990 - val_loss: 12.7744 - val_r2_score: 1.0005\n",
            "Epoch 39/100\n",
            "404/404 [==============================] - 0s 65us/step - loss: 12.8726 - r2_score: 1.0027 - val_loss: 12.4837 - val_r2_score: 1.0034\n",
            "Epoch 40/100\n",
            "404/404 [==============================] - 0s 62us/step - loss: 12.5156 - r2_score: 1.0036 - val_loss: 12.2657 - val_r2_score: 1.0006\n",
            "Epoch 41/100\n",
            "404/404 [==============================] - 0s 69us/step - loss: 12.3295 - r2_score: 0.9997 - val_loss: 12.0690 - val_r2_score: 0.9990\n",
            "Epoch 42/100\n",
            "404/404 [==============================] - 0s 68us/step - loss: 12.0798 - r2_score: 0.9995 - val_loss: 11.8360 - val_r2_score: 1.0002\n",
            "Epoch 43/100\n",
            "404/404 [==============================] - 0s 68us/step - loss: 11.8200 - r2_score: 0.9985 - val_loss: 11.6349 - val_r2_score: 1.0012\n",
            "Epoch 44/100\n",
            "404/404 [==============================] - 0s 68us/step - loss: 11.6598 - r2_score: 1.0005 - val_loss: 11.4673 - val_r2_score: 1.0013\n",
            "Epoch 45/100\n",
            "404/404 [==============================] - 0s 62us/step - loss: 11.4543 - r2_score: 0.9998 - val_loss: 11.2927 - val_r2_score: 1.0014\n",
            "Epoch 46/100\n",
            "404/404 [==============================] - 0s 70us/step - loss: 11.2714 - r2_score: 1.0010 - val_loss: 11.1391 - val_r2_score: 1.0006\n",
            "Epoch 47/100\n",
            "404/404 [==============================] - 0s 71us/step - loss: 11.1250 - r2_score: 0.9993 - val_loss: 10.9955 - val_r2_score: 1.0012\n",
            "Epoch 48/100\n",
            "404/404 [==============================] - 0s 64us/step - loss: 11.0301 - r2_score: 1.0006 - val_loss: 10.8526 - val_r2_score: 1.0016\n",
            "Epoch 49/100\n",
            "404/404 [==============================] - 0s 89us/step - loss: 10.8616 - r2_score: 1.0002 - val_loss: 10.7314 - val_r2_score: 1.0000\n",
            "Epoch 50/100\n",
            "404/404 [==============================] - 0s 99us/step - loss: 10.7986 - r2_score: 0.9991 - val_loss: 10.6044 - val_r2_score: 1.0004\n",
            "Epoch 51/100\n",
            "404/404 [==============================] - 0s 74us/step - loss: 10.6800 - r2_score: 1.0008 - val_loss: 10.5008 - val_r2_score: 1.0034\n",
            "Epoch 52/100\n",
            "404/404 [==============================] - 0s 57us/step - loss: 10.5570 - r2_score: 1.0031 - val_loss: 10.3580 - val_r2_score: 1.0028\n",
            "Epoch 53/100\n",
            "404/404 [==============================] - 0s 76us/step - loss: 10.3495 - r2_score: 0.9998 - val_loss: 10.2350 - val_r2_score: 0.9997\n",
            "Epoch 54/100\n",
            "404/404 [==============================] - 0s 68us/step - loss: 10.2992 - r2_score: 1.0005 - val_loss: 10.1231 - val_r2_score: 1.0013\n",
            "Epoch 55/100\n",
            "404/404 [==============================] - 0s 70us/step - loss: 10.1772 - r2_score: 0.9985 - val_loss: 10.0501 - val_r2_score: 0.9995\n",
            "Epoch 56/100\n",
            "404/404 [==============================] - 0s 61us/step - loss: 10.0906 - r2_score: 1.0001 - val_loss: 9.9546 - val_r2_score: 1.0021\n",
            "Epoch 57/100\n",
            "404/404 [==============================] - 0s 82us/step - loss: 9.9631 - r2_score: 1.0000 - val_loss: 9.8574 - val_r2_score: 1.0006\n",
            "Epoch 58/100\n",
            "404/404 [==============================] - 0s 66us/step - loss: 9.9011 - r2_score: 1.0008 - val_loss: 9.7755 - val_r2_score: 1.0006\n",
            "Epoch 59/100\n",
            "404/404 [==============================] - 0s 71us/step - loss: 9.8519 - r2_score: 0.9999 - val_loss: 9.6923 - val_r2_score: 1.0012\n",
            "Epoch 60/100\n",
            "404/404 [==============================] - 0s 65us/step - loss: 9.7313 - r2_score: 1.0002 - val_loss: 9.6108 - val_r2_score: 1.0016\n",
            "Epoch 61/100\n",
            "404/404 [==============================] - 0s 64us/step - loss: 9.6476 - r2_score: 1.0012 - val_loss: 9.5277 - val_r2_score: 1.0008\n",
            "Epoch 62/100\n",
            "404/404 [==============================] - 0s 63us/step - loss: 9.5627 - r2_score: 1.0003 - val_loss: 9.4571 - val_r2_score: 1.0003\n",
            "Epoch 63/100\n",
            "404/404 [==============================] - 0s 69us/step - loss: 9.5903 - r2_score: 1.0012 - val_loss: 9.3893 - val_r2_score: 1.0023\n",
            "Epoch 64/100\n",
            "404/404 [==============================] - 0s 76us/step - loss: 9.4231 - r2_score: 1.0000 - val_loss: 9.3335 - val_r2_score: 0.9988\n",
            "Epoch 65/100\n",
            "404/404 [==============================] - 0s 63us/step - loss: 9.3870 - r2_score: 0.9987 - val_loss: 9.2602 - val_r2_score: 0.9996\n",
            "Epoch 66/100\n",
            "404/404 [==============================] - 0s 64us/step - loss: 9.3097 - r2_score: 0.9996 - val_loss: 9.1933 - val_r2_score: 1.0009\n",
            "Epoch 67/100\n",
            "404/404 [==============================] - 0s 66us/step - loss: 9.3796 - r2_score: 1.0021 - val_loss: 9.1507 - val_r2_score: 1.0029\n",
            "Epoch 68/100\n",
            "404/404 [==============================] - 0s 62us/step - loss: 9.2204 - r2_score: 0.9999 - val_loss: 9.0703 - val_r2_score: 0.9989\n",
            "Epoch 69/100\n",
            "404/404 [==============================] - 0s 68us/step - loss: 9.1398 - r2_score: 1.0005 - val_loss: 9.0180 - val_r2_score: 1.0024\n",
            "Epoch 70/100\n",
            "404/404 [==============================] - 0s 65us/step - loss: 9.1137 - r2_score: 0.9995 - val_loss: 8.9397 - val_r2_score: 1.0012\n",
            "Epoch 71/100\n",
            "404/404 [==============================] - 0s 65us/step - loss: 9.1324 - r2_score: 0.9980 - val_loss: 8.8946 - val_r2_score: 0.9994\n",
            "Epoch 72/100\n",
            "404/404 [==============================] - 0s 74us/step - loss: 8.9526 - r2_score: 1.0006 - val_loss: 8.8521 - val_r2_score: 1.0032\n",
            "Epoch 73/100\n",
            "404/404 [==============================] - 0s 65us/step - loss: 8.8608 - r2_score: 1.0030 - val_loss: 8.7665 - val_r2_score: 1.0005\n",
            "Epoch 74/100\n",
            "404/404 [==============================] - 0s 72us/step - loss: 8.8348 - r2_score: 0.9997 - val_loss: 8.7239 - val_r2_score: 1.0000\n",
            "Epoch 75/100\n",
            "404/404 [==============================] - 0s 76us/step - loss: 8.7481 - r2_score: 0.9985 - val_loss: 8.6585 - val_r2_score: 1.0005\n",
            "Epoch 76/100\n",
            "404/404 [==============================] - 0s 66us/step - loss: 8.7331 - r2_score: 1.0008 - val_loss: 8.6023 - val_r2_score: 1.0014\n",
            "Epoch 77/100\n",
            "404/404 [==============================] - 0s 68us/step - loss: 8.6458 - r2_score: 1.0006 - val_loss: 8.5646 - val_r2_score: 1.0004\n",
            "Epoch 78/100\n",
            "404/404 [==============================] - 0s 67us/step - loss: 8.7067 - r2_score: 0.9991 - val_loss: 8.5127 - val_r2_score: 1.0011\n",
            "Epoch 79/100\n",
            "404/404 [==============================] - 0s 79us/step - loss: 8.4976 - r2_score: 1.0010 - val_loss: 8.4730 - val_r2_score: 1.0011\n",
            "Epoch 80/100\n",
            "404/404 [==============================] - 0s 74us/step - loss: 8.5103 - r2_score: 0.9993 - val_loss: 8.3959 - val_r2_score: 1.0010\n",
            "Epoch 81/100\n",
            "404/404 [==============================] - 0s 64us/step - loss: 8.4333 - r2_score: 1.0006 - val_loss: 8.3453 - val_r2_score: 1.0000\n",
            "Epoch 82/100\n",
            "404/404 [==============================] - 0s 66us/step - loss: 8.4301 - r2_score: 1.0010 - val_loss: 8.3057 - val_r2_score: 1.0008\n",
            "Epoch 83/100\n",
            "404/404 [==============================] - 0s 73us/step - loss: 8.4073 - r2_score: 0.9980 - val_loss: 8.2627 - val_r2_score: 0.9986\n",
            "Epoch 84/100\n",
            "404/404 [==============================] - 0s 64us/step - loss: 8.3860 - r2_score: 1.0009 - val_loss: 8.2914 - val_r2_score: 1.0036\n",
            "Epoch 85/100\n",
            "404/404 [==============================] - 0s 64us/step - loss: 8.2925 - r2_score: 1.0006 - val_loss: 8.1598 - val_r2_score: 1.0000\n",
            "Epoch 86/100\n",
            "404/404 [==============================] - 0s 65us/step - loss: 8.2282 - r2_score: 0.9999 - val_loss: 8.0957 - val_r2_score: 1.0006\n",
            "Epoch 87/100\n",
            "404/404 [==============================] - 0s 69us/step - loss: 8.1582 - r2_score: 0.9993 - val_loss: 8.0421 - val_r2_score: 0.9996\n",
            "Epoch 88/100\n",
            "404/404 [==============================] - 0s 77us/step - loss: 8.1143 - r2_score: 0.9997 - val_loss: 7.9925 - val_r2_score: 1.0003\n",
            "Epoch 89/100\n",
            "404/404 [==============================] - 0s 69us/step - loss: 8.0552 - r2_score: 1.0007 - val_loss: 7.9461 - val_r2_score: 1.0021\n",
            "Epoch 90/100\n",
            "404/404 [==============================] - 0s 67us/step - loss: 7.9611 - r2_score: 1.0000 - val_loss: 7.8888 - val_r2_score: 0.9996\n",
            "Epoch 91/100\n",
            "404/404 [==============================] - 0s 66us/step - loss: 7.9637 - r2_score: 1.0001 - val_loss: 7.8421 - val_r2_score: 1.0015\n",
            "Epoch 92/100\n",
            "404/404 [==============================] - 0s 63us/step - loss: 7.9152 - r2_score: 1.0012 - val_loss: 7.8030 - val_r2_score: 0.9986\n",
            "Epoch 93/100\n",
            "404/404 [==============================] - 0s 69us/step - loss: 7.8440 - r2_score: 0.9984 - val_loss: 7.7450 - val_r2_score: 0.9992\n",
            "Epoch 94/100\n",
            "404/404 [==============================] - 0s 72us/step - loss: 7.7805 - r2_score: 0.9989 - val_loss: 7.7100 - val_r2_score: 1.0015\n",
            "Epoch 95/100\n",
            "404/404 [==============================] - 0s 64us/step - loss: 7.7383 - r2_score: 1.0015 - val_loss: 7.6413 - val_r2_score: 1.0006\n",
            "Epoch 96/100\n",
            "404/404 [==============================] - 0s 64us/step - loss: 7.7272 - r2_score: 0.9988 - val_loss: 7.5941 - val_r2_score: 0.9998\n",
            "Epoch 97/100\n",
            "404/404 [==============================] - 0s 68us/step - loss: 7.6731 - r2_score: 1.0005 - val_loss: 7.5481 - val_r2_score: 1.0011\n",
            "Epoch 98/100\n",
            "404/404 [==============================] - 0s 67us/step - loss: 7.7319 - r2_score: 1.0000 - val_loss: 7.4997 - val_r2_score: 1.0011\n",
            "Epoch 99/100\n",
            "404/404 [==============================] - 0s 66us/step - loss: 7.6014 - r2_score: 0.9995 - val_loss: 7.4443 - val_r2_score: 0.9998\n",
            "Epoch 100/100\n",
            "404/404 [==============================] - 0s 64us/step - loss: 7.5176 - r2_score: 0.9986 - val_loss: 7.4030 - val_r2_score: 0.9995\n"
          ],
          "name": "stdout"
        }
      ]
    },
    {
      "cell_type": "code",
      "metadata": {
        "id": "qhYz77aO9lOh",
        "colab_type": "code",
        "colab": {}
      },
      "source": [
        "import matplotlib.pyplot as plt"
      ],
      "execution_count": 0,
      "outputs": []
    },
    {
      "cell_type": "code",
      "metadata": {
        "id": "JlMg_YwU9vaN",
        "colab_type": "code",
        "colab": {}
      },
      "source": [
        "val_loss = hist.history['val_loss']\n",
        "train_loss =hist.history['loss']"
      ],
      "execution_count": 0,
      "outputs": []
    },
    {
      "cell_type": "code",
      "metadata": {
        "id": "uhmLsiLq98gk",
        "colab_type": "code",
        "colab": {
          "base_uri": "https://localhost:8080/",
          "height": 269
        },
        "outputId": "63717ddc-46c7-4a67-a766-6cace121ed22"
      },
      "source": [
        "plt.plot(val_loss,label=\"val_loss\")\n",
        "plt.plot(train_loss,label=\"train_loss\")\n",
        "plt.legend()\n",
        "plt.show()"
      ],
      "execution_count": 32,
      "outputs": [
        {
          "output_type": "display_data",
          "data": {
            "image/png": "[encoded data removed]",
            "text/plain": [
              "<Figure size 432x288 with 1 Axes>"
            ]
          },
          "metadata": {
            "tags": []
          }
        }
      ]
    },
    {
      "cell_type": "code",
      "metadata": {
        "id": "itVkPt3n-bgn",
        "colab_type": "code",
        "colab": {
          "base_uri": "https://localhost:8080/",
          "height": 295
        },
        "outputId": "0a299a2c-e90b-4bfa-8500-f1d7f04b0270"
      },
      "source": [
        "r2_score_train=hist.history['r2_score']\n",
        "r2_score_val=hist.history['val_r2_score']\n",
        "\n",
        "plt.plot(r2_score_train,label=\"trian Score\")\n",
        "plt.plot(r2_score_val,label=\" val score\")\n",
        "plt.legend()\n",
        "plt.title(\"R2 score\")\n",
        "plt.xlabel(\"Epochs\")\n",
        "plt.ylabel(\"R2 score\")\n",
        "plt.show()"
      ],
      "execution_count": 40,
      "outputs": [
        {
          "output_type": "display_data",
          "data": {
            "image/png": "[encoded data removed]",
            "text/plain": [
              "<Figure size 432x288 with 1 Axes>"
            ]
          },
          "metadata": {
            "tags": []
          }
        }
      ]
    },
    {
      "cell_type": "code",
      "metadata": {
        "id": "Uq3-AJ4Z_Q6u",
        "colab_type": "code",
        "colab": {
          "base_uri": "https://localhost:8080/",
          "height": 54
        },
        "outputId": "aea2f5da-07a0-4cc6-94a3-c07bd57cea3a"
      },
      "source": [
        "model.evaluate(Xt,Yt)[1]"
      ],
      "execution_count": 41,
      "outputs": [
        {
          "output_type": "stream",
          "text": [
            "102/102 [==============================] - 0s 43us/step\n"
          ],
          "name": "stdout"
        },
        {
          "output_type": "execute_result",
          "data": {
            "text/plain": [
              "37.36394818623861"
            ]
          },
          "metadata": {
            "tags": []
          },
          "execution_count": 41
        }
      ]
    },
    {
      "cell_type": "code",
      "metadata": {
        "id": "2rvTyNEh_ueQ",
        "colab_type": "code",
        "colab": {}
      },
      "source": [
        ""
      ],
      "execution_count": 0,
      "outputs": []
    }
  ]
}